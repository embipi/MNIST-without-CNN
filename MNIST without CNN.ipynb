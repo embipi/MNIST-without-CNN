{
 "cells": [
  {
   "cell_type": "markdown",
   "metadata": {},
   "source": [
    "# MNIST without CNN\n",
    "\n",
    "### **Autor**: \n",
    "Miguel Bravo Prieto\n",
    "\n",
    "--- \n",
    "\n",
    "The acronym for the name of the MNIST data set comes from \"Modified National Institute of Standards and Technology\" and represents one of the prototypical problems of computer vision since its origin in 1999. It contains images of handwritten numbers that serve as lines basis for improving visual recognition algorithms. It consists of images with a dimension of 28x28 pixels out of a total of 784x70,000 pixels between the training and test sets, each pixel containing a value between 0 and 255 as a measure of its intensity, where 0 is the darkest value and 255 is the lighter value.\n",
    "\n",
    "Throughout this Jupyter Notebook it is intended to solve the classification problem posed by MNIST using classification models with a classical machine learning approach while some improvements are proposed for these visual recognition algorithms.\n",
    "\n",
    "Specifically, we will focus on the SVM and K-Nearest Neighbors models to face the exercise.\n",
    "\n",
    "---\n",
    "\n",
    "### **Index**\n",
    "\n",
    "1. [Library and data load](#id1)\n",
    "2. [Preparation and display](#id2)\n",
    "3. [Model optimization](#id3)\n",
    "4. [Model selection](#id4)\n",
    "5. [Model Evaluation](#id5)\n",
    "6. [Visual Recognition Improvements](#id6)\n",
    "\n",
    "--- \n",
    "\n",
    "### **Disclosure**\n",
    "\n",
    "This notebook is presented as an example for educational purposes on the application of classical models to problems normally seen from the point of view of Deep Learning. It also aims to demonstrate the sensitivity of the models with respect to the data used as input and the difficulty associated to solving the problems of Computer Vision. Also, some comments may be in spanish but they only refer to the code."
   ]
  },
  {
   "cell_type": "markdown",
   "metadata": {},
   "source": [
    "## Library and data load<a name=\"id1\"></a>"
   ]
  },
  {
   "cell_type": "markdown",
   "metadata": {},
   "source": [
    "First of all, we import all the libraries that we are going to work with and load the files that contain the training and test data sets. Later we will visualize the size of these in order to check the structure of the data."
   ]
  },
  {
   "cell_type": "code",
   "execution_count": 1,
   "metadata": {},
   "outputs": [],
   "source": [
    "## Importamos las librerias\n",
    "import pandas as pd\n",
    "import numpy as np\n",
    "import matplotlib.pyplot as plt\n",
    "\n",
    "from sklearn.svm import SVC\n",
    "from sklearn.neighbors import KNeighborsClassifier\n",
    "\n",
    "from sklearn.model_selection import GridSearchCV\n",
    "from sklearn.datasets import load_svmlight_file\n",
    "from sklearn.metrics import confusion_matrix, classification_report"
   ]
  },
  {
   "cell_type": "code",
   "execution_count": 2,
   "metadata": {},
   "outputs": [],
   "source": [
    "## Leemos los archivos\n",
    "data_train = \"./mnist_train\"\n",
    "data_test = \"./mnist_test.t\"\n",
    "\n",
    "X_train ,y_train = load_svmlight_file(data_train, n_features=784)\n",
    "X_test ,y_test = load_svmlight_file(data_test, n_features=784)"
   ]
  },
  {
   "cell_type": "code",
   "execution_count": 3,
   "metadata": {},
   "outputs": [
    {
     "name": "stdout",
     "output_type": "stream",
     "text": [
      "Tamaño del set de entrenamiento: (60000, 784)\n",
      "Tamaño del target de entrenamiento: (60000,)\n",
      "\n",
      "Tamaño del set de testeo: (10000, 784)\n",
      "Tamaño del target de testeo: (10000,)\n"
     ]
    }
   ],
   "source": [
    "## Observamos las dimensiones de cada set de datos\n",
    "print(\"Tamaño del set de entrenamiento:\", X_train.shape)\n",
    "print(\"Tamaño del target de entrenamiento:\", y_train.shape)\n",
    "\n",
    "print(\"\\nTamaño del set de testeo:\", X_test.shape)\n",
    "print(\"Tamaño del target de testeo:\", y_test.shape)"
   ]
  },
  {
   "cell_type": "markdown",
   "metadata": {},
   "source": [
    "---\n",
    "\n",
    "## Preparation and display <a name=\"id2\"></a>"
   ]
  },
  {
   "cell_type": "markdown",
   "metadata": {},
   "source": [
    "To better understand what type of data we are working with, we will visualize some samples of the data set. Previously we will transform the data to a format with which we can work comfortably and we will apply a normalization dividing by the maximum value of the pixel so that we will be able to apply the machine learning models correctly without altering the value 0 that represents the background of the image, allowing us to generate the visual contrast with the outline of the number."
   ]
  },
  {
   "cell_type": "code",
   "execution_count": 4,
   "metadata": {},
   "outputs": [],
   "source": [
    "## Pasamos los datos a un formato \"dense vector\"\n",
    "X_train = X_train.todense()\n",
    "X_test = X_test.todense()\n",
    "\n",
    "## Normalizamos los datos\n",
    "X_train = X_train/255\n",
    "X_test = X_test/255"
   ]
  },
  {
   "cell_type": "code",
   "execution_count": 5,
   "metadata": {},
   "outputs": [
    {
     "data": {
      "image/png": "[encoded data removed]",
      "text/plain": [
       "<Figure size 1152x864 with 15 Axes>"
      ]
     },
     "metadata": {
      "needs_background": "light"
     },
     "output_type": "display_data"
    }
   ],
   "source": [
    "## Generamos multiples visualizaciones\n",
    "plt.figure(figsize=(16, 12))\n",
    "for i in range(15):\n",
    "    plt.subplot(3, 5, i + 1)\n",
    "    plt.title(int(y_train[i]))\n",
    "    plt.imshow(X_train[i,:].reshape([28,28]), cmap=plt.cm.hot);"
   ]
  },
  {
   "cell_type": "markdown",
   "metadata": {},
   "source": [
    "---\n",
    "\n",
    "## Model optimization <a name=\"id3\"></a>"
   ]
  },
  {
   "cell_type": "markdown",
   "metadata": {},
   "source": [
    "Before choosing the final model, a grid is generated to adjust the hyperparameters of the two models that have been proposed to face the exercise, so that we can generate an optimized model where the real power of each model will be shown. In order to carry out this task within a reasonably acceptable time, a series of random numbers have been generated to extract a small sample from the training and testing set. Subsequently, both models have been trained with their respective grids. Below are two links to the documentation of both models in case it is of interest to the reader."
   ]
  },
  {
   "cell_type": "markdown",
   "metadata": {},
   "source": [
    "[Doc SVM](https://scikit-learn.org/stable/modules/generated/sklearn.svm.SVC.html)\n",
    "\n",
    "[Doc KNeighborsClassifier](https://scikit-learn.org/stable/modules/generated/sklearn.neighbors.KNeighborsClassifier.html)"
   ]
  },
  {
   "cell_type": "code",
   "execution_count": 6,
   "metadata": {},
   "outputs": [],
   "source": [
    "## Obtenemos una muestras aleatorias con dimensiones equivalentes al 10% del tamaño del set \n",
    "index_train = np.random.randint(60000, size=6000)\n",
    "index_test = np.random.randint(10000, size=1000)\n",
    "\n",
    "X_train_opt = X_train[index_train, :]\n",
    "X_test_opt = X_test[index_test, :]\n",
    "\n",
    "y_train_opt = y_train[index_train, ]\n",
    "y_test_opt = y_test[index_test, ]"
   ]
  },
  {
   "cell_type": "code",
   "execution_count": 7,
   "metadata": {},
   "outputs": [
    {
     "name": "stdout",
     "output_type": "stream",
     "text": [
      "El modelo con los mejores hiperparametros es:\n",
      "SVC(C=10.0, cache_size=200, class_weight=None, coef0=0.0,\n",
      "  decision_function_shape='ovr', degree=3, gamma='auto', kernel='rbf',\n",
      "  max_iter=-1, probability=False, random_state=None, shrinking=True,\n",
      "  tol=0.001, verbose=False)\n",
      "\n",
      "El accuracy del test con el modelo Support Vector Classifier optimizado es 94.30%\n",
      "\n",
      "Wall time: 3h 40min 34s\n"
     ]
    }
   ],
   "source": [
    "%%time\n",
    "\n",
    "tuned_C = np.array([0.1, 1, 10])\n",
    "tuned_kernel = np.array([\"linear\", \"poly\", \"rbf\", \"sigmoid\"])\n",
    "tuned_decision_function_shape = np.array([\"ovr\", \"ovo\"])\n",
    "\n",
    "tuned_parameters = [{\"C\":tuned_C,\n",
    "                     \"kernel\":tuned_kernel,\n",
    "                     \"decision_function_shape\":tuned_decision_function_shape}]\n",
    "\n",
    "## Modelo Support Vector Classifier optimizado\n",
    "svc_grid = GridSearchCV(SVC(gamma=\"auto\"), tuned_parameters, cv=10, iid=True).fit(X_train_opt, y_train_opt)\n",
    "\n",
    "svc_best = svc_grid.best_estimator_\n",
    "svc_grid_acc = svc_grid.score(X_test_opt, y_test_opt)  \n",
    "\n",
    "print(\"El modelo con los mejores hiperparametros es:\\n\" + str(svc_best))\n",
    "print(\"\\nEl accuracy del test con el modelo Support Vector Classifier optimizado es %2.2f%%\\n\" %(100*svc_grid_acc)) "
   ]
  },
  {
   "cell_type": "code",
   "execution_count": 8,
   "metadata": {},
   "outputs": [
    {
     "name": "stdout",
     "output_type": "stream",
     "text": [
      "El modelo con los mejores hiperparametros es:\n",
      "KNeighborsClassifier(algorithm='ball_tree', leaf_size=30, metric='minkowski',\n",
      "           metric_params=None, n_jobs=5, n_neighbors=5, p=2,\n",
      "           weights='distance')\n",
      "\n",
      "El accuracy del test con el modelo K-Nearest Neighbors optimizado es 94.30%\n",
      "\n",
      "Wall time: 50min 18s\n"
     ]
    }
   ],
   "source": [
    "%%time\n",
    "\n",
    "tuned_n_neighbors = np.array([3, 5, 7])\n",
    "tuned_weights = np.array([\"uniform\", \"distance\"])\n",
    "tuned_algorithm = np.array([\"ball_tree\", \"kd_tree\", \"brute\", \"auto\"])\n",
    "\n",
    "tuned_parameters = [{\"n_neighbors\":tuned_n_neighbors,\n",
    "                     \"weights\":tuned_weights,\n",
    "                     \"algorithm\":tuned_algorithm}]\n",
    "\n",
    "## Modelo K-Nearest Neighbors optimizado\n",
    "KNN_grid = GridSearchCV(KNeighborsClassifier(n_jobs=5), tuned_parameters, cv=10, iid=True).fit(X_train_opt, y_train_opt)\n",
    "\n",
    "KNN_best = KNN_grid.best_estimator_\n",
    "KNN_grid_acc = KNN_grid.score(X_test_opt, y_test_opt)  \n",
    "\n",
    "print(\"El modelo con los mejores hiperparametros es:\\n\" + str(KNN_best))\n",
    "print(\"\\nEl accuracy del test con el modelo K-Nearest Neighbors optimizado es %2.2f%%\\n\" %(100*KNN_grid_acc))  "
   ]
  },
  {
   "cell_type": "markdown",
   "metadata": {},
   "source": [
    "It can be seen how both models show a high accuracy, however, the KNN model shows a significantly lower computation time, which is why it promises to be a good candidate for further study. However, the SVM model also offers quite competitive precision, and in a cluster environment it could be executed in parallel allowing a improvement on time execution performance. It will be necessary to train each model with the total data set to evaluate its real potential."
   ]
  },
  {
   "cell_type": "markdown",
   "metadata": {},
   "source": [
    "---\n",
    "\n",
    "## Model selection <a name=\"id4\"></a>"
   ]
  },
  {
   "cell_type": "markdown",
   "metadata": {},
   "source": [
    "Finally, we re-generate both models using the entire data set, choosing those parameters that achieve a better performance of the model. It would be interesting to be able to generate a much more exhaustive grid, but due to infrastructure limitations, it cannot be carried out."
   ]
  },
  {
   "cell_type": "code",
   "execution_count": 9,
   "metadata": {},
   "outputs": [
    {
     "name": "stdout",
     "output_type": "stream",
     "text": [
      "El accuracy del test con el modelo Support Vector Classifier es 96.14%\n",
      "\n",
      "Wall time: 10min 7s\n"
     ]
    }
   ],
   "source": [
    "%%time\n",
    "\n",
    "## Modelo Support Vector Classifier\n",
    "svc = SVC(C=10,\n",
    "          kernel=\"rbf\",\n",
    "          degree=3,\n",
    "          gamma=\"auto\",\n",
    "          coef0=0.0,\n",
    "          shrinking=True,\n",
    "          probability=False,\n",
    "          tol=0.001,\n",
    "          cache_size=200,\n",
    "          class_weight=None,\n",
    "          verbose=False,\n",
    "          max_iter=-1,\n",
    "          decision_function_shape=\"ovr\",\n",
    "          random_state=None).fit(X_train, y_train)\n",
    "\n",
    "svc_acc = svc.score(X_test, y_test)\n",
    "\n",
    "print(\"El accuracy del test con el modelo Support Vector Classifier es %2.2f%%\\n\" %(100*svc_acc))"
   ]
  },
  {
   "cell_type": "code",
   "execution_count": 10,
   "metadata": {},
   "outputs": [
    {
     "name": "stdout",
     "output_type": "stream",
     "text": [
      "El accuracy del test con el modelo K-Nearest Neighbors es 96.91%\n",
      "\n",
      "Wall time: 4min 42s\n"
     ]
    }
   ],
   "source": [
    "%%time\n",
    "\n",
    "## Modelo K-Nearest Neighbors\n",
    "KNN = KNeighborsClassifier(n_neighbors=5,\n",
    "                           weights=\"distance\",\n",
    "                           algorithm=\"ball_tree\",\n",
    "                           leaf_size=30,\n",
    "                           p=2,\n",
    "                           metric=\"minkowski\",\n",
    "                           metric_params=None,\n",
    "                           n_jobs=5).fit(X_train, y_train)\n",
    "\n",
    "KNN_acc = KNN.score(X_test, y_test)\n",
    "\n",
    "print(\"El accuracy del test con el modelo K-Nearest Neighbors es %2.2f%%\\n\" %(100*KNN_acc))"
   ]
  },
  {
   "cell_type": "markdown",
   "metadata": {},
   "source": [
    "As we could previously observe, the KNN model turns out to be the best candidate for visual image recognition. It has shown greater accuracy in the final modeling and its processing time is still much shorter, facilitating the execution of the study."
   ]
  },
  {
   "cell_type": "markdown",
   "metadata": {},
   "source": [
    "---\n",
    "\n",
    "## Model Evaluation<a name=\"id5\"></a>"
   ]
  },
  {
   "cell_type": "markdown",
   "metadata": {},
   "source": [
    "To reaffirm our choice, we proceed to carry out an analysis of the two models in greater depth. To do this, we will apply several evaluation methods, which are described below, in addition to visualizing a confusion matrix where we will obtain a great insight into the model's ability to classify each specific number."
   ]
  },
  {
   "cell_type": "code",
   "execution_count": 11,
   "metadata": {},
   "outputs": [],
   "source": [
    "## Obtenemos las estimaciones de cada modelo con el set de testeo\n",
    "svc_y_pred = svc.predict(X_test)\n",
    "KNN_y_pred = KNN.predict(X_test)"
   ]
  },
  {
   "cell_type": "code",
   "execution_count": 12,
   "metadata": {},
   "outputs": [
    {
     "name": "stdout",
     "output_type": "stream",
     "text": [
      "Evaluación del modelo Support Vector Classifier:\n",
      "               precision    recall  f1-score   support\n",
      "\n",
      "           0       0.97      0.99      0.98       980\n",
      "           1       0.98      0.99      0.99      1135\n",
      "           2       0.95      0.95      0.95      1032\n",
      "           3       0.94      0.96      0.95      1010\n",
      "           4       0.95      0.97      0.96       982\n",
      "           5       0.96      0.94      0.95       892\n",
      "           6       0.97      0.97      0.97       958\n",
      "           7       0.97      0.95      0.96      1028\n",
      "           8       0.95      0.95      0.95       974\n",
      "           9       0.96      0.94      0.95      1009\n",
      "\n",
      "   micro avg       0.96      0.96      0.96     10000\n",
      "   macro avg       0.96      0.96      0.96     10000\n",
      "weighted avg       0.96      0.96      0.96     10000\n",
      "\n",
      "\n",
      "Evaluación del modelo K-Nearest Kneigborhs:\n",
      "               precision    recall  f1-score   support\n",
      "\n",
      "           0       0.97      0.99      0.98       980\n",
      "           1       0.96      1.00      0.98      1135\n",
      "           2       0.98      0.96      0.97      1032\n",
      "           3       0.97      0.96      0.97      1010\n",
      "           4       0.98      0.96      0.97       982\n",
      "           5       0.97      0.97      0.97       892\n",
      "           6       0.98      0.99      0.98       958\n",
      "           7       0.96      0.96      0.96      1028\n",
      "           8       0.98      0.94      0.96       974\n",
      "           9       0.95      0.96      0.95      1009\n",
      "\n",
      "   micro avg       0.97      0.97      0.97     10000\n",
      "   macro avg       0.97      0.97      0.97     10000\n",
      "weighted avg       0.97      0.97      0.97     10000\n",
      "\n"
     ]
    }
   ],
   "source": [
    "## Generamos una lista con las diferentes clases\n",
    "labels = [\"0\",\"1\",\"2\",\"3\",\"4\",\"5\",\"6\",\"7\",\"8\",\"9\"]\n",
    "\n",
    "## Evaluamos los modelos con diversos metodos (Precision, Recall, F1) \n",
    "Evaluation_SVC = classification_report(y_true =y_test, y_pred=svc_y_pred, target_names=labels)\n",
    "Evalutation_KNN = classification_report(y_true=y_test, y_pred=KNN_y_pred, target_names=labels)\n",
    "\n",
    "print(\"Evaluación del modelo Support Vector Classifier:\\n\", Evaluation_SVC)\n",
    "print(\"\\nEvaluación del modelo K-Nearest Kneigborhs:\\n\", Evalutation_KNN)"
   ]
  },
  {
   "cell_type": "code",
   "execution_count": 13,
   "metadata": {},
   "outputs": [],
   "source": [
    "## Cargamos la función para visualizar la matriz de confusión\n",
    "def plot_confusion_matrix(cm, title=\"Matriz de Confusión\", cmap=plt.cm.Blues):\n",
    "    plt.imshow(cm, interpolation='nearest', cmap=cmap)\n",
    "    plt.title(title)\n",
    "    plt.colorbar()\n",
    "    tick_marks = np.arange(cm.shape[0])\n",
    "    plt.xticks(tick_marks, np.arange(cm.shape[0]))\n",
    "    plt.yticks(tick_marks, np.arange(cm.shape[0]))\n",
    "    plt.tight_layout()\n",
    "    plt.ylabel(\"Clase Real\")\n",
    "    plt.xlabel(\"Clase Estimada\")"
   ]
  },
  {
   "cell_type": "code",
   "execution_count": 14,
   "metadata": {},
   "outputs": [
    {
     "data": {
      "image/png": "[encoded data removed]",
      "text/plain": [
       "<Figure size 864x432 with 4 Axes>"
      ]
     },
     "metadata": {
      "needs_background": "light"
     },
     "output_type": "display_data"
    }
   ],
   "source": [
    "## Calculamos la matriz de confusión\n",
    "svc_CM = confusion_matrix(y_test, svc_y_pred)\n",
    "KNN_CM = confusion_matrix(y_test, KNN_y_pred)\n",
    "\n",
    "## Visualizamos la matriz de confusión de cada modelo\n",
    "fig = plt.figure(figsize=(12,6))\n",
    "\n",
    "ax1 = fig.add_subplot(121)\n",
    "plot_confusion_matrix(svc_CM)\n",
    "ax1.title.set_text(\"Matriz de Confusión SVC\")\n",
    "\n",
    "ax2 = fig.add_subplot(122)\n",
    "plot_confusion_matrix(KNN_CM)\n",
    "ax2.title.set_text(\"Matriz de Confusión KNN\")\n",
    "\n",
    "plt.show()"
   ]
  },
  {
   "cell_type": "markdown",
   "metadata": {},
   "source": [
    "We can see how both models are very robust in terms of the correct classification of the different classes that we can find in the data set. However, due to the slight superiority in the accuracy of the KNN model, in addition to its processing speed, we will maintain our decision to use it in the final study."
   ]
  },
  {
   "cell_type": "markdown",
   "metadata": {},
   "source": [
    "---\n",
    "\n",
    "## Visual Recognition Improvements <a name=\"id6\"></a>"
   ]
  },
  {
   "cell_type": "markdown",
   "metadata": {},
   "source": [
    "Up to this point we have managed to create a model that can recognize handwritten numbers with values between 0 and 9. However, these numbers maintain a certain structure with respect to their orientation, that is, these images are still a configuration of pixels with a certain value, therefore if suddenly a number appears upside down, our model should not be able to recognize that outline of the number, since the distribution of values of each pixel would be very different from what the model knows. Based on this idea, we are going to generate a data set from the one we have by rotating the values of each pixel 180 degrees. Later, we will evaluate our model on this data set to verify that the proposed hypothesis is correct, and if so, we will proceed to generate a new model with the entire data set to, this time, evaluate its visual discrimination capacity on the original dataset and the new dataset we have created."
   ]
  },
  {
   "cell_type": "code",
   "execution_count": 15,
   "metadata": {},
   "outputs": [
    {
     "name": "stdout",
     "output_type": "stream",
     "text": [
      "Tamaño del set de entrenamiento rotado: (60000, 784)\n",
      "Tamaño del target de entrenamiento rotado: (60000,)\n",
      "\n",
      "Tamaño del set de testeo rotado: (10000, 784)\n",
      "Tamaño del target de testeo rotado: (10000,)\n"
     ]
    }
   ],
   "source": [
    "## Rotamos los pixeles del set de datos 90 grados dos veces para poner boca abajo la imagen\n",
    "X_train_rotated = np.rot90(X_train,2)\n",
    "X_test_rotated = np.rot90(X_test,2)\n",
    "\n",
    "## Para conservar el target invertimos la matriz reescribiendo el orden de los datos\n",
    "y_train_rotated = y_train[::-1]\n",
    "y_test_rotated = y_test[::-1]\n",
    "\n",
    "## Observamos las dimensiones de cada nuevo set de datos.\n",
    "print(\"Tamaño del set de entrenamiento rotado:\", X_train_rotated.shape)\n",
    "print(\"Tamaño del target de entrenamiento rotado:\", y_train_rotated.shape)\n",
    "\n",
    "print(\"\\nTamaño del set de testeo rotado:\", X_test_rotated.shape)\n",
    "print(\"Tamaño del target de testeo rotado:\", y_test_rotated.shape)"
   ]
  },
  {
   "cell_type": "code",
   "execution_count": 16,
   "metadata": {},
   "outputs": [
    {
     "data": {
      "image/png": "[encoded data removed]",
      "text/plain": [
       "<Figure size 1152x864 with 15 Axes>"
      ]
     },
     "metadata": {
      "needs_background": "light"
     },
     "output_type": "display_data"
    }
   ],
   "source": [
    "## Generamos multiples visualizaciones del nuevo set de datos rotado\n",
    "plt.figure(figsize=(16, 12))\n",
    "for i in range(15):\n",
    "    plt.subplot(3, 5, i + 1)\n",
    "    plt.title(int(y_train_rotated[i]))\n",
    "    plt.imshow(X_train_rotated[i,:].reshape([28,28]), cmap=plt.cm.hot);"
   ]
  },
  {
   "cell_type": "code",
   "execution_count": 17,
   "metadata": {},
   "outputs": [
    {
     "name": "stdout",
     "output_type": "stream",
     "text": [
      "Tamaño del nuevo set de entrenamiento: (120000, 784)\n",
      "Tamaño del nuevo target de entrenamiento: (120000,)\n",
      "\n",
      "Tamaño del nuevo set de testeo: (20000, 784)\n",
      "Tamaño del nuevo target de testeo: (20000,)\n"
     ]
    }
   ],
   "source": [
    "## Unimos los set entrenamiento y testeo originales con las imagenes rotadas\n",
    "new_X_train = np.concatenate((X_train, X_train_rotated), axis=0)\n",
    "new_y_train = np.concatenate((y_train, y_train_rotated), axis=0)\n",
    "\n",
    "new_X_test = np.concatenate((X_test, X_test_rotated), axis=0)\n",
    "new_y_test = np.concatenate((y_test, y_test_rotated), axis=0)\n",
    "\n",
    "## Observamos las dimensiones de cada set de datos final.\n",
    "print(\"Tamaño del nuevo set de entrenamiento:\", new_X_train.shape)\n",
    "print(\"Tamaño del nuevo target de entrenamiento:\", new_y_train.shape)\n",
    "\n",
    "print(\"\\nTamaño del nuevo set de testeo:\", new_X_test.shape)\n",
    "print(\"Tamaño del nuevo target de testeo:\", new_y_test.shape)"
   ]
  },
  {
   "cell_type": "code",
   "execution_count": 18,
   "metadata": {},
   "outputs": [
    {
     "name": "stdout",
     "output_type": "stream",
     "text": [
      "Wall time: 2min 36s\n"
     ]
    }
   ],
   "source": [
    "%%time\n",
    "\n",
    "## Creamos un nuevo modelo ajustado al nuevo set de datos generado\n",
    "new_KNN = KNeighborsClassifier(n_neighbors=3,\n",
    "                           weights=\"distance\",\n",
    "                           algorithm=\"ball_tree\",\n",
    "                           leaf_size=30,\n",
    "                           p=2,\n",
    "                           metric=\"minkowski\",\n",
    "                           metric_params=None,\n",
    "                           n_jobs=5).fit(new_X_train, new_y_train)"
   ]
  },
  {
   "cell_type": "code",
   "execution_count": 19,
   "metadata": {},
   "outputs": [
    {
     "name": "stdout",
     "output_type": "stream",
     "text": [
      "El accuracy del test con el modelo sin ajustar K-Nearest Neighbors es 26.88%\n",
      "\n",
      "El accuracy con los datos del test rotados con el nuevo modelo K-Nearest Neighbors es 96.18%\n",
      "\n",
      "El accuracy del test final con el nuevo modelo K-Nearest Neighbors es 96.18%\n",
      "\n"
     ]
    }
   ],
   "source": [
    "## Obtenemos el acurracy del modelo sin ajustar sobre las imagenes rotadas\n",
    "no_fit_acc = KNN.score(X_test_rotated, y_test_rotated)\n",
    "print(\"El accuracy del test con el modelo sin ajustar K-Nearest Neighbors es %2.2f%%\\n\" %(100*no_fit_acc))\n",
    "\n",
    "## Obtenemos el acurracy del modelo ajustado sobre las imagenes rotadas\n",
    "fit_acc = new_KNN.score(X_test_rotated, y_test_rotated)\n",
    "print(\"El accuracy con los datos del test rotados con el nuevo modelo K-Nearest Neighbors es %2.2f%%\\n\" %(100*fit_acc))\n",
    "\n",
    "## Obtenemos el accuracy sobre el nuevo set de datos generado\n",
    "new_KNN_acc = new_KNN.score(new_X_test, new_y_test)\n",
    "print(\"El accuracy del test final con el nuevo modelo K-Nearest Neighbors es %2.2f%%\\n\" %(100*new_KNN_acc))"
   ]
  },
  {
   "cell_type": "markdown",
   "metadata": {},
   "source": [
    "As expected, when trying to estimate the classes with the rotated data using the previously created model, we obtain very poor results, however, adjusting the model with the original data plus the new rotated data, we once again achieve great accuracy both compared to the rotated data as against the final dataset. The latter makes sense since the model has been trained to identify numbers in both orientations, so it will be able to achieve the same precision both with rotated data and with a mixture of them, and it would also be expected that it would obtain a worse accuracy in the case we fit the model only with rotated data and then try to estimate data with the original orientation."
   ]
  }
 ],
 "metadata": {
  "kernelspec": {
   "display_name": "Python 3",
   "language": "python",
   "name": "python3"
  },
  "language_info": {
   "codemirror_mode": {
    "name": "ipython",
    "version": 3
   },
   "file_extension": ".py",
   "mimetype": "text/x-python",
   "name": "python",
   "nbconvert_exporter": "python",
   "pygments_lexer": "ipython3",
   "version": "3.6.12"
  }
 },
 "nbformat": 4,
 "nbformat_minor": 2
}
